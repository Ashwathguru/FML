{
  "nbformat": 4,
  "nbformat_minor": 0,
  "metadata": {
    "colab": {
      "name": "ann.ipynb",
      "version": "0.3.2",
      "provenance": [],
      "collapsed_sections": [],
      "include_colab_link": true
    },
    "kernelspec": {
      "name": "python3",
      "display_name": "Python 3"
    }
  },
  "cells": [
    {
      "cell_type": "markdown",
      "metadata": {
        "id": "view-in-github",
        "colab_type": "text"
      },
      "source": [
        "<a href=\"https://colab.research.google.com/github/Ashwathguru/FML/blob/master/ann.ipynb\" target=\"_parent\"><img src=\"https://colab.research.google.com/assets/colab-badge.svg\" alt=\"Open In Colab\"/></a>"
      ]
    },
    {
      "metadata": {
        "id": "RhHG-VUu_Eh_",
        "colab_type": "code",
        "colab": {}
      },
      "cell_type": "code",
      "source": [
        "import matplotlib.pyplot as plt\n",
        "import pandas as pd\n",
        "dataset=pd.read_csv(\"Bank_Data.csv\")\n",
        "X=dataset.iloc[:,3:13].values\n",
        "y=dataset.iloc[:,13].values"
      ],
      "execution_count": 0,
      "outputs": []
    },
    {
      "metadata": {
        "id": "KTq-57LACii_",
        "colab_type": "code",
        "colab": {
          "base_uri": "https://localhost:8080/",
          "height": 134
        },
        "outputId": "6f2a1f5a-d6dd-4729-acc9-e417e03144ab"
      },
      "cell_type": "code",
      "source": [
        "from sklearn.preprocessing import LabelEncoder,OneHotEncoder\n",
        "\n",
        "labelencoder_X_1=LabelEncoder()\n",
        "X[:,1]=labelencoder_X_1.fit_transform(X[:,1])\n",
        "labelencoder_X_1=LabelEncoder()\n",
        "X[:,2]=labelencoder_X_1.fit_transform(X[:,2])\n",
        "print(X)"
      ],
      "execution_count": 4,
      "outputs": [
        {
          "output_type": "stream",
          "text": [
            "[[619 0 0 ... 1 1 101348.88]\n",
            " [608 2 0 ... 0 1 112542.58]\n",
            " [502 0 0 ... 1 0 113931.57]\n",
            " ...\n",
            " [709 0 0 ... 0 1 42085.58]\n",
            " [772 1 1 ... 1 0 92888.52]\n",
            " [792 0 0 ... 1 0 38190.78]]\n"
          ],
          "name": "stdout"
        }
      ]
    },
    {
      "metadata": {
        "id": "X1yGznZ4_L1T",
        "colab_type": "code",
        "colab": {
          "base_uri": "https://localhost:8080/",
          "height": 356
        },
        "outputId": "9acbf601-1296-4c6f-88b1-2bf9921626ef"
      },
      "cell_type": "code",
      "source": [
        "onehotencoder=OneHotEncoder(categorical_features=[1])\n",
        "X=onehotencoder.fit_transform(X).toarray()\n",
        "print(X)\n",
        "\n",
        "X=X[:,1:]#dummy variable trap , leads to correlation of more than one variable\n"
      ],
      "execution_count": 5,
      "outputs": [
        {
          "output_type": "stream",
          "text": [
            "[[1.0000000e+00 0.0000000e+00 0.0000000e+00 ... 1.0000000e+00\n",
            "  1.0000000e+00 1.0134888e+05]\n",
            " [0.0000000e+00 0.0000000e+00 1.0000000e+00 ... 0.0000000e+00\n",
            "  1.0000000e+00 1.1254258e+05]\n",
            " [1.0000000e+00 0.0000000e+00 0.0000000e+00 ... 1.0000000e+00\n",
            "  0.0000000e+00 1.1393157e+05]\n",
            " ...\n",
            " [1.0000000e+00 0.0000000e+00 0.0000000e+00 ... 0.0000000e+00\n",
            "  1.0000000e+00 4.2085580e+04]\n",
            " [0.0000000e+00 1.0000000e+00 0.0000000e+00 ... 1.0000000e+00\n",
            "  0.0000000e+00 9.2888520e+04]\n",
            " [1.0000000e+00 0.0000000e+00 0.0000000e+00 ... 1.0000000e+00\n",
            "  0.0000000e+00 3.8190780e+04]]\n"
          ],
          "name": "stdout"
        },
        {
          "output_type": "stream",
          "text": [
            "/usr/local/lib/python3.6/dist-packages/sklearn/preprocessing/_encoders.py:368: FutureWarning: The handling of integer data will change in version 0.22. Currently, the categories are determined based on the range [0, max(values)], while in the future they will be determined based on the unique values.\n",
            "If you want the future behaviour and silence this warning, you can specify \"categories='auto'\".\n",
            "In case you used a LabelEncoder before this OneHotEncoder to convert the categories to integers, then you can now use the OneHotEncoder directly.\n",
            "  warnings.warn(msg, FutureWarning)\n",
            "/usr/local/lib/python3.6/dist-packages/sklearn/preprocessing/_encoders.py:390: DeprecationWarning: The 'categorical_features' keyword is deprecated in version 0.20 and will be removed in 0.22. You can use the ColumnTransformer instead.\n",
            "  \"use the ColumnTransformer instead.\", DeprecationWarning)\n"
          ],
          "name": "stderr"
        }
      ]
    },
    {
      "metadata": {
        "id": "He_s7rvg_GjZ",
        "colab_type": "code",
        "colab": {
          "base_uri": "https://localhost:8080/",
          "height": 34
        },
        "outputId": "26b397ab-ed43-494a-f29f-b097abe1ad28"
      },
      "cell_type": "code",
      "source": [
        "''' IF output has more than one variable\n",
        "labelencoder_y=LabelEncoder()\n",
        "y=labelencoder_y.fit_transform(y)'''"
      ],
      "execution_count": 6,
      "outputs": [
        {
          "output_type": "execute_result",
          "data": {
            "text/plain": [
              "' IF output has more than one variable\\nlabelencoder_y=LabelEncoder()\\ny=labelencoder_y.fit_transform(y)'"
            ]
          },
          "metadata": {
            "tags": []
          },
          "execution_count": 6
        }
      ]
    },
    {
      "metadata": {
        "id": "7BJAXzvnLZTM",
        "colab_type": "code",
        "colab": {}
      },
      "cell_type": "code",
      "source": [
        "from sklearn.model_selection import train_test_split\n",
        "X_train,X_test,y_train,y_test=train_test_split(X,y,test_size=0.2,random_state=0)"
      ],
      "execution_count": 0,
      "outputs": []
    },
    {
      "metadata": {
        "id": "HUJ5myC0LpR6",
        "colab_type": "code",
        "colab": {}
      },
      "cell_type": "code",
      "source": [
        "from sklearn.preprocessing import StandardScaler\n",
        "sc=StandardScaler()\n",
        "X_train=sc.fit_transform(X_train)\n",
        "X_test=sc.transform(X_test)"
      ],
      "execution_count": 0,
      "outputs": []
    },
    {
      "metadata": {
        "id": "v7bij8FaLxql",
        "colab_type": "code",
        "colab": {
          "base_uri": "https://localhost:8080/",
          "height": 154
        },
        "outputId": "f3ca0bc4-ee66-4fdb-b9fc-bdcbbe392735"
      },
      "cell_type": "code",
      "source": [
        "import keras\n",
        "from keras.models import Sequential\n",
        "from keras.layers import Dense\n",
        "\n",
        "classifier = Sequential()\n",
        "#Adding input layer and the first hidden layer\n",
        "classifier.add(Dense(output_dim=6,init='uniform',activation='relu',input_dim=11)) #uniform- initalizing weights that are close to zero\n",
        "#adding the second hidden layer\n",
        "classifier.add(Dense(output_dim=6,init='uniform',activation='relu')) #relu rectified linear unit - it will converge the result\n",
        "#overfitting in artifical nn how and why "
      ],
      "execution_count": 11,
      "outputs": [
        {
          "output_type": "stream",
          "text": [
            "WARNING:tensorflow:From /usr/local/lib/python3.6/dist-packages/tensorflow/python/framework/op_def_library.py:263: colocate_with (from tensorflow.python.framework.ops) is deprecated and will be removed in a future version.\n",
            "Instructions for updating:\n",
            "Colocations handled automatically by placer.\n"
          ],
          "name": "stdout"
        },
        {
          "output_type": "stream",
          "text": [
            "/usr/local/lib/python3.6/dist-packages/ipykernel_launcher.py:7: UserWarning: Update your `Dense` call to the Keras 2 API: `Dense(activation=\"relu\", input_dim=11, units=6, kernel_initializer=\"uniform\")`\n",
            "  import sys\n",
            "/usr/local/lib/python3.6/dist-packages/ipykernel_launcher.py:9: UserWarning: Update your `Dense` call to the Keras 2 API: `Dense(activation=\"relu\", units=6, kernel_initializer=\"uniform\")`\n",
            "  if __name__ == '__main__':\n"
          ],
          "name": "stderr"
        }
      ]
    },
    {
      "metadata": {
        "id": "wRwkdG9dMIuA",
        "colab_type": "code",
        "colab": {
          "base_uri": "https://localhost:8080/",
          "height": 3531
        },
        "outputId": "75b48384-3f5b-4888-85c5-2298df58b9ea"
      },
      "cell_type": "code",
      "source": [
        "#Adding Output Layer\n",
        "classifier.add(Dense(output_dim=1,init='uniform',activation='sigmoid')) #sigmoid - probablity of\n",
        "#compiling ann\n",
        "classifier.compile(optimizer='adam',loss='binary_crossentropy',metrics=['accuracy']) #adam-gradient descent approach / binary_crossentropy - classification\n",
        "#fitting ann to training set\n",
        "classifier.fit(X_train,y_train,batch_size=10,nb_epoch=100) #epoch- number of iterations"
      ],
      "execution_count": 12,
      "outputs": [
        {
          "output_type": "stream",
          "text": [
            "WARNING:tensorflow:From /usr/local/lib/python3.6/dist-packages/tensorflow/python/ops/math_ops.py:3066: to_int32 (from tensorflow.python.ops.math_ops) is deprecated and will be removed in a future version.\n",
            "Instructions for updating:\n",
            "Use tf.cast instead.\n"
          ],
          "name": "stdout"
        },
        {
          "output_type": "stream",
          "text": [
            "/usr/local/lib/python3.6/dist-packages/ipykernel_launcher.py:1: UserWarning: Update your `Dense` call to the Keras 2 API: `Dense(activation=\"sigmoid\", units=1, kernel_initializer=\"uniform\")`\n",
            "  \"\"\"Entry point for launching an IPython kernel.\n",
            "/usr/local/lib/python3.6/dist-packages/ipykernel_launcher.py:5: UserWarning: The `nb_epoch` argument in `fit` has been renamed `epochs`.\n",
            "  \"\"\"\n"
          ],
          "name": "stderr"
        },
        {
          "output_type": "stream",
          "text": [
            "Epoch 1/100\n",
            "8000/8000 [==============================] - 2s 194us/step - loss: 0.4863 - acc: 0.7957\n",
            "Epoch 2/100\n",
            "8000/8000 [==============================] - 1s 107us/step - loss: 0.4261 - acc: 0.7960\n",
            "Epoch 3/100\n",
            "8000/8000 [==============================] - 1s 97us/step - loss: 0.4176 - acc: 0.8165\n",
            "Epoch 4/100\n",
            "8000/8000 [==============================] - 1s 92us/step - loss: 0.4120 - acc: 0.8327\n",
            "Epoch 5/100\n",
            "8000/8000 [==============================] - 1s 97us/step - loss: 0.4076 - acc: 0.8320\n",
            "Epoch 6/100\n",
            "8000/8000 [==============================] - 1s 94us/step - loss: 0.4051 - acc: 0.8335\n",
            "Epoch 7/100\n",
            "8000/8000 [==============================] - 1s 93us/step - loss: 0.4036 - acc: 0.8340\n",
            "Epoch 8/100\n",
            "8000/8000 [==============================] - 1s 92us/step - loss: 0.4020 - acc: 0.8346\n",
            "Epoch 9/100\n",
            "8000/8000 [==============================] - 1s 92us/step - loss: 0.4008 - acc: 0.8351\n",
            "Epoch 10/100\n",
            "8000/8000 [==============================] - 1s 93us/step - loss: 0.4002 - acc: 0.8352\n",
            "Epoch 11/100\n",
            "8000/8000 [==============================] - 1s 93us/step - loss: 0.3998 - acc: 0.8359\n",
            "Epoch 12/100\n",
            "8000/8000 [==============================] - 1s 92us/step - loss: 0.3990 - acc: 0.8346\n",
            "Epoch 13/100\n",
            "8000/8000 [==============================] - 1s 91us/step - loss: 0.3982 - acc: 0.8359\n",
            "Epoch 14/100\n",
            "8000/8000 [==============================] - 1s 91us/step - loss: 0.3979 - acc: 0.8350\n",
            "Epoch 15/100\n",
            "8000/8000 [==============================] - 1s 93us/step - loss: 0.3974 - acc: 0.8356\n",
            "Epoch 16/100\n",
            "8000/8000 [==============================] - 1s 94us/step - loss: 0.3971 - acc: 0.8356\n",
            "Epoch 17/100\n",
            "8000/8000 [==============================] - 1s 94us/step - loss: 0.3959 - acc: 0.8360\n",
            "Epoch 18/100\n",
            "8000/8000 [==============================] - 1s 93us/step - loss: 0.3953 - acc: 0.8352\n",
            "Epoch 19/100\n",
            "8000/8000 [==============================] - 1s 93us/step - loss: 0.3935 - acc: 0.8370\n",
            "Epoch 20/100\n",
            "8000/8000 [==============================] - 1s 93us/step - loss: 0.3935 - acc: 0.8391\n",
            "Epoch 21/100\n",
            "8000/8000 [==============================] - 1s 95us/step - loss: 0.3919 - acc: 0.8385\n",
            "Epoch 22/100\n",
            "8000/8000 [==============================] - 1s 95us/step - loss: 0.3896 - acc: 0.8401\n",
            "Epoch 23/100\n",
            "8000/8000 [==============================] - 1s 93us/step - loss: 0.3869 - acc: 0.8401\n",
            "Epoch 24/100\n",
            "8000/8000 [==============================] - 1s 92us/step - loss: 0.3818 - acc: 0.8432\n",
            "Epoch 25/100\n",
            "8000/8000 [==============================] - 1s 93us/step - loss: 0.3769 - acc: 0.8419\n",
            "Epoch 26/100\n",
            "8000/8000 [==============================] - 1s 92us/step - loss: 0.3715 - acc: 0.8465\n",
            "Epoch 27/100\n",
            "8000/8000 [==============================] - 1s 92us/step - loss: 0.3648 - acc: 0.8512\n",
            "Epoch 28/100\n",
            "8000/8000 [==============================] - 1s 92us/step - loss: 0.3621 - acc: 0.8486\n",
            "Epoch 29/100\n",
            "8000/8000 [==============================] - 1s 92us/step - loss: 0.3582 - acc: 0.8547\n",
            "Epoch 30/100\n",
            "8000/8000 [==============================] - 1s 92us/step - loss: 0.3561 - acc: 0.8516\n",
            "Epoch 31/100\n",
            "8000/8000 [==============================] - 1s 91us/step - loss: 0.3545 - acc: 0.8550\n",
            "Epoch 32/100\n",
            "8000/8000 [==============================] - 1s 92us/step - loss: 0.3529 - acc: 0.8547\n",
            "Epoch 33/100\n",
            "8000/8000 [==============================] - 1s 93us/step - loss: 0.3515 - acc: 0.8559\n",
            "Epoch 34/100\n",
            "8000/8000 [==============================] - 1s 92us/step - loss: 0.3507 - acc: 0.8545\n",
            "Epoch 35/100\n",
            "8000/8000 [==============================] - 1s 92us/step - loss: 0.3503 - acc: 0.8550\n",
            "Epoch 36/100\n",
            "8000/8000 [==============================] - 1s 92us/step - loss: 0.3494 - acc: 0.8547\n",
            "Epoch 37/100\n",
            "8000/8000 [==============================] - 1s 92us/step - loss: 0.3483 - acc: 0.8591\n",
            "Epoch 38/100\n",
            "8000/8000 [==============================] - 1s 92us/step - loss: 0.3483 - acc: 0.8574\n",
            "Epoch 39/100\n",
            "8000/8000 [==============================] - 1s 92us/step - loss: 0.3478 - acc: 0.8576\n",
            "Epoch 40/100\n",
            "8000/8000 [==============================] - 1s 91us/step - loss: 0.3475 - acc: 0.8597\n",
            "Epoch 41/100\n",
            "8000/8000 [==============================] - 1s 93us/step - loss: 0.3481 - acc: 0.8574\n",
            "Epoch 42/100\n",
            "8000/8000 [==============================] - 1s 92us/step - loss: 0.3469 - acc: 0.8575\n",
            "Epoch 43/100\n",
            "8000/8000 [==============================] - 1s 94us/step - loss: 0.3469 - acc: 0.8597\n",
            "Epoch 44/100\n",
            "8000/8000 [==============================] - 1s 94us/step - loss: 0.3470 - acc: 0.8554\n",
            "Epoch 45/100\n",
            "8000/8000 [==============================] - 1s 93us/step - loss: 0.3469 - acc: 0.8584\n",
            "Epoch 46/100\n",
            "8000/8000 [==============================] - 1s 91us/step - loss: 0.3464 - acc: 0.8580\n",
            "Epoch 47/100\n",
            "8000/8000 [==============================] - 1s 92us/step - loss: 0.3457 - acc: 0.8610\n",
            "Epoch 48/100\n",
            "8000/8000 [==============================] - 1s 92us/step - loss: 0.3447 - acc: 0.8592\n",
            "Epoch 49/100\n",
            "8000/8000 [==============================] - 1s 92us/step - loss: 0.3453 - acc: 0.8575\n",
            "Epoch 50/100\n",
            "8000/8000 [==============================] - 1s 91us/step - loss: 0.3457 - acc: 0.8591\n",
            "Epoch 51/100\n",
            "8000/8000 [==============================] - 1s 90us/step - loss: 0.3462 - acc: 0.8609\n",
            "Epoch 52/100\n",
            "8000/8000 [==============================] - 1s 92us/step - loss: 0.3462 - acc: 0.8574\n",
            "Epoch 53/100\n",
            "8000/8000 [==============================] - 1s 92us/step - loss: 0.3466 - acc: 0.8567\n",
            "Epoch 54/100\n",
            "8000/8000 [==============================] - 1s 91us/step - loss: 0.3448 - acc: 0.8594\n",
            "Epoch 55/100\n",
            "8000/8000 [==============================] - 1s 92us/step - loss: 0.3457 - acc: 0.8586\n",
            "Epoch 56/100\n",
            "8000/8000 [==============================] - 1s 92us/step - loss: 0.3451 - acc: 0.8566\n",
            "Epoch 57/100\n",
            "8000/8000 [==============================] - 1s 94us/step - loss: 0.3452 - acc: 0.8591\n",
            "Epoch 58/100\n",
            "8000/8000 [==============================] - 1s 94us/step - loss: 0.3435 - acc: 0.8586\n",
            "Epoch 59/100\n",
            "8000/8000 [==============================] - 1s 93us/step - loss: 0.3447 - acc: 0.8609\n",
            "Epoch 60/100\n",
            "8000/8000 [==============================] - 1s 91us/step - loss: 0.3453 - acc: 0.8594\n",
            "Epoch 61/100\n",
            "8000/8000 [==============================] - 1s 91us/step - loss: 0.3447 - acc: 0.8592\n",
            "Epoch 62/100\n",
            "8000/8000 [==============================] - 1s 93us/step - loss: 0.3453 - acc: 0.8587\n",
            "Epoch 63/100\n",
            "8000/8000 [==============================] - 1s 92us/step - loss: 0.3445 - acc: 0.8599\n",
            "Epoch 64/100\n",
            "8000/8000 [==============================] - 1s 92us/step - loss: 0.3435 - acc: 0.8605\n",
            "Epoch 65/100\n",
            "8000/8000 [==============================] - 1s 92us/step - loss: 0.3437 - acc: 0.8587\n",
            "Epoch 66/100\n",
            "8000/8000 [==============================] - 1s 94us/step - loss: 0.3449 - acc: 0.8616\n",
            "Epoch 67/100\n",
            "8000/8000 [==============================] - 1s 95us/step - loss: 0.3442 - acc: 0.8606\n",
            "Epoch 68/100\n",
            "8000/8000 [==============================] - 1s 92us/step - loss: 0.3442 - acc: 0.8589\n",
            "Epoch 69/100\n",
            "8000/8000 [==============================] - 1s 92us/step - loss: 0.3438 - acc: 0.8595\n",
            "Epoch 70/100\n",
            "8000/8000 [==============================] - 1s 92us/step - loss: 0.3444 - acc: 0.8557\n",
            "Epoch 71/100\n",
            "8000/8000 [==============================] - 1s 96us/step - loss: 0.3447 - acc: 0.8565\n",
            "Epoch 72/100\n",
            "8000/8000 [==============================] - 1s 92us/step - loss: 0.3440 - acc: 0.8586\n",
            "Epoch 73/100\n",
            "8000/8000 [==============================] - 1s 92us/step - loss: 0.3435 - acc: 0.8579\n",
            "Epoch 74/100\n",
            "8000/8000 [==============================] - 1s 92us/step - loss: 0.3438 - acc: 0.8615\n",
            "Epoch 75/100\n",
            "8000/8000 [==============================] - 1s 93us/step - loss: 0.3440 - acc: 0.8587\n",
            "Epoch 76/100\n",
            "8000/8000 [==============================] - 1s 92us/step - loss: 0.3422 - acc: 0.8632\n",
            "Epoch 77/100\n",
            "8000/8000 [==============================] - 1s 93us/step - loss: 0.3426 - acc: 0.8596\n",
            "Epoch 78/100\n",
            "8000/8000 [==============================] - 1s 94us/step - loss: 0.3431 - acc: 0.8592\n",
            "Epoch 79/100\n",
            "8000/8000 [==============================] - 1s 93us/step - loss: 0.3432 - acc: 0.8595\n",
            "Epoch 80/100\n",
            "8000/8000 [==============================] - 1s 93us/step - loss: 0.3426 - acc: 0.8607\n",
            "Epoch 81/100\n",
            "8000/8000 [==============================] - 1s 93us/step - loss: 0.3420 - acc: 0.8592\n",
            "Epoch 82/100\n",
            "8000/8000 [==============================] - 1s 94us/step - loss: 0.3435 - acc: 0.8579\n",
            "Epoch 83/100\n",
            "8000/8000 [==============================] - 1s 94us/step - loss: 0.3421 - acc: 0.8602\n",
            "Epoch 84/100\n",
            "8000/8000 [==============================] - 1s 92us/step - loss: 0.3429 - acc: 0.8606\n",
            "Epoch 85/100\n",
            "8000/8000 [==============================] - 1s 94us/step - loss: 0.3424 - acc: 0.8615\n",
            "Epoch 86/100\n",
            "8000/8000 [==============================] - 1s 93us/step - loss: 0.3425 - acc: 0.8596\n",
            "Epoch 87/100\n",
            "8000/8000 [==============================] - 1s 93us/step - loss: 0.3422 - acc: 0.8611\n",
            "Epoch 88/100\n",
            "8000/8000 [==============================] - 1s 93us/step - loss: 0.3419 - acc: 0.8597\n",
            "Epoch 89/100\n",
            "8000/8000 [==============================] - 1s 93us/step - loss: 0.3415 - acc: 0.8625\n",
            "Epoch 90/100\n",
            "8000/8000 [==============================] - 1s 93us/step - loss: 0.3414 - acc: 0.8592\n",
            "Epoch 91/100\n",
            "8000/8000 [==============================] - 1s 93us/step - loss: 0.3422 - acc: 0.8605\n",
            "Epoch 92/100\n",
            "8000/8000 [==============================] - 1s 92us/step - loss: 0.3418 - acc: 0.8606\n",
            "Epoch 93/100\n",
            "8000/8000 [==============================] - 1s 92us/step - loss: 0.3420 - acc: 0.8587\n",
            "Epoch 94/100\n",
            "8000/8000 [==============================] - 1s 93us/step - loss: 0.3421 - acc: 0.8577\n",
            "Epoch 95/100\n",
            "8000/8000 [==============================] - 1s 92us/step - loss: 0.3410 - acc: 0.8607\n",
            "Epoch 96/100\n",
            "8000/8000 [==============================] - 1s 92us/step - loss: 0.3417 - acc: 0.8607\n",
            "Epoch 97/100\n",
            "8000/8000 [==============================] - 1s 94us/step - loss: 0.3412 - acc: 0.8609\n",
            "Epoch 98/100\n",
            "8000/8000 [==============================] - 1s 93us/step - loss: 0.3415 - acc: 0.8596\n",
            "Epoch 99/100\n",
            "8000/8000 [==============================] - 1s 92us/step - loss: 0.3404 - acc: 0.8599\n",
            "Epoch 100/100\n",
            "8000/8000 [==============================] - 1s 93us/step - loss: 0.3415 - acc: 0.8589\n"
          ],
          "name": "stdout"
        },
        {
          "output_type": "execute_result",
          "data": {
            "text/plain": [
              "<keras.callbacks.History at 0x7f296dc2f6d8>"
            ]
          },
          "metadata": {
            "tags": []
          },
          "execution_count": 12
        }
      ]
    },
    {
      "metadata": {
        "id": "laFwaXMTMn2k",
        "colab_type": "code",
        "colab": {}
      },
      "cell_type": "code",
      "source": [
        "#predict\n",
        "y_pred=classifier.predict(X_test)\n",
        "y_pred=(y_pred>0.5)"
      ],
      "execution_count": 0,
      "outputs": []
    },
    {
      "metadata": {
        "id": "tqvzpUPTMse_",
        "colab_type": "code",
        "colab": {
          "base_uri": "https://localhost:8080/",
          "height": 50
        },
        "outputId": "787b0e46-a469-44aa-a9f5-38251f4214d8"
      },
      "cell_type": "code",
      "source": [
        "#confusion martix\n",
        "from sklearn.metrics import confusion_matrix\n",
        "cm=confusion_matrix(y_test,y_pred)\n",
        "cm\n"
      ],
      "execution_count": 15,
      "outputs": [
        {
          "output_type": "execute_result",
          "data": {
            "text/plain": [
              "array([[1529,   66],\n",
              "       [ 214,  191]])"
            ]
          },
          "metadata": {
            "tags": []
          },
          "execution_count": 15
        }
      ]
    }
  ]
}